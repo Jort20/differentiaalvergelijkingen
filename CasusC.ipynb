{
 "cells": [
  {
   "metadata": {},
   "cell_type": "markdown",
   "source": [
    "# <span id=\"0\">Casus C *Differentiële vergelijkingen* - Deel I</span>\n",
    "\n",
    "Inhoud:\n",
    "\n",
    "* **<a href=\"#1\">Tumor groei modellen</a>**\n",
    "    * ***<a> Logistic groei model</a>***\n",
    "    * ***<a> Mendelsohn groei model</a>***\n",
    "    * ***<a> Gompertz groei model</a>***\n",
    "    * ***<a> Montroll groei model</a>***\n",
    "    * ***<a> Van Bertalanffy groei model</a>***\n",
    "    * ***<a> Allee-effect groei model</a>***\n",
    "\n",
    "* **<a href=\"#4\">Genereerde data</a>**\n",
    "\n",
    "* **<a href=\"#5\">Je eigen data met TumorGrowthModel</a>**"
   ],
   "id": "ea3f39373ee368ee"
  },
  {
   "metadata": {},
   "cell_type": "markdown",
   "source": [
    "<a id=\"2\" href=\"#0\" style=\"text-align: right; display: block;\">Terug naar boven</a>\n",
    "### Tumor groei modellen\n",
    "#### Logistic groei model\n"
   ],
   "id": "a68ee0eb9e5eef83"
  }
 ],
 "metadata": {
  "kernelspec": {
   "display_name": "Python 3",
   "language": "python",
   "name": "python3"
  },
  "language_info": {
   "codemirror_mode": {
    "name": "ipython",
    "version": 2
   },
   "file_extension": ".py",
   "mimetype": "text/x-python",
   "name": "python",
   "nbconvert_exporter": "python",
   "pygments_lexer": "ipython2",
   "version": "2.7.6"
  }
 },
 "nbformat": 4,
 "nbformat_minor": 5
}
